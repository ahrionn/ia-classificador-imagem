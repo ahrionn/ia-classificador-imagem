{
	"cells": [
		{
			"cell_type": "code",
			"execution_count": 1,
			"metadata": {},
			"outputs": [
				{
					"name": "stdout",
					"output_type": "stream",
					"text": [
						"Requirement already satisfied: tensorflow in c:\\users\\luam_\\appdata\\local\\programs\\python\\python310\\lib\\site-packages (2.15.0)\n",
						"Requirement already satisfied: tensorflow-intel==2.15.0 in c:\\users\\luam_\\appdata\\local\\programs\\python\\python310\\lib\\site-packages (from tensorflow) (2.15.0)\n",
						"Requirement already satisfied: absl-py>=1.0.0 in c:\\users\\luam_\\appdata\\local\\programs\\python\\python310\\lib\\site-packages (from tensorflow-intel==2.15.0->tensorflow) (2.0.0)\n",
						"Requirement already satisfied: astunparse>=1.6.0 in c:\\users\\luam_\\appdata\\local\\programs\\python\\python310\\lib\\site-packages (from tensorflow-intel==2.15.0->tensorflow) (1.6.3)\n",
						"Requirement already satisfied: flatbuffers>=23.5.26 in c:\\users\\luam_\\appdata\\local\\programs\\python\\python310\\lib\\site-packages (from tensorflow-intel==2.15.0->tensorflow) (23.5.26)\n",
						"Requirement already satisfied: gast!=0.5.0,!=0.5.1,!=0.5.2,>=0.2.1 in c:\\users\\luam_\\appdata\\local\\programs\\python\\python310\\lib\\site-packages (from tensorflow-intel==2.15.0->tensorflow) (0.5.4)\n",
						"Requirement already satisfied: google-pasta>=0.1.1 in c:\\users\\luam_\\appdata\\local\\programs\\python\\python310\\lib\\site-packages (from tensorflow-intel==2.15.0->tensorflow) (0.2.0)\n",
						"Requirement already satisfied: h5py>=2.9.0 in c:\\users\\luam_\\appdata\\local\\programs\\python\\python310\\lib\\site-packages (from tensorflow-intel==2.15.0->tensorflow) (3.10.0)\n",
						"Requirement already satisfied: libclang>=13.0.0 in c:\\users\\luam_\\appdata\\local\\programs\\python\\python310\\lib\\site-packages (from tensorflow-intel==2.15.0->tensorflow) (16.0.6)\n",
						"Requirement already satisfied: ml-dtypes~=0.2.0 in c:\\users\\luam_\\appdata\\local\\programs\\python\\python310\\lib\\site-packages (from tensorflow-intel==2.15.0->tensorflow) (0.2.0)\n",
						"Requirement already satisfied: numpy<2.0.0,>=1.23.5 in c:\\users\\luam_\\appdata\\local\\programs\\python\\python310\\lib\\site-packages (from tensorflow-intel==2.15.0->tensorflow) (1.26.2)\n",
						"Requirement already satisfied: opt-einsum>=2.3.2 in c:\\users\\luam_\\appdata\\local\\programs\\python\\python310\\lib\\site-packages (from tensorflow-intel==2.15.0->tensorflow) (3.3.0)\n",
						"Requirement already satisfied: packaging in c:\\users\\luam_\\appdata\\roaming\\python\\python310\\site-packages (from tensorflow-intel==2.15.0->tensorflow) (23.2)\n",
						"Requirement already satisfied: protobuf!=4.21.0,!=4.21.1,!=4.21.2,!=4.21.3,!=4.21.4,!=4.21.5,<5.0.0dev,>=3.20.3 in c:\\users\\luam_\\appdata\\local\\programs\\python\\python310\\lib\\site-packages (from tensorflow-intel==2.15.0->tensorflow) (4.23.4)\n",
						"Requirement already satisfied: setuptools in c:\\users\\luam_\\appdata\\local\\programs\\python\\python310\\lib\\site-packages (from tensorflow-intel==2.15.0->tensorflow) (58.1.0)\n",
						"Requirement already satisfied: six>=1.12.0 in c:\\users\\luam_\\appdata\\roaming\\python\\python310\\site-packages (from tensorflow-intel==2.15.0->tensorflow) (1.16.0)\n",
						"Requirement already satisfied: termcolor>=1.1.0 in c:\\users\\luam_\\appdata\\local\\programs\\python\\python310\\lib\\site-packages (from tensorflow-intel==2.15.0->tensorflow) (2.3.0)\n",
						"Requirement already satisfied: typing-extensions>=3.6.6 in c:\\users\\luam_\\appdata\\local\\programs\\python\\python310\\lib\\site-packages (from tensorflow-intel==2.15.0->tensorflow) (4.8.0)\n",
						"Requirement already satisfied: wrapt<1.15,>=1.11.0 in c:\\users\\luam_\\appdata\\local\\programs\\python\\python310\\lib\\site-packages (from tensorflow-intel==2.15.0->tensorflow) (1.14.1)\n",
						"Requirement already satisfied: tensorflow-io-gcs-filesystem>=0.23.1 in c:\\users\\luam_\\appdata\\local\\programs\\python\\python310\\lib\\site-packages (from tensorflow-intel==2.15.0->tensorflow) (0.31.0)\n",
						"Requirement already satisfied: grpcio<2.0,>=1.24.3 in c:\\users\\luam_\\appdata\\local\\programs\\python\\python310\\lib\\site-packages (from tensorflow-intel==2.15.0->tensorflow) (1.59.3)\n",
						"Requirement already satisfied: tensorboard<2.16,>=2.15 in c:\\users\\luam_\\appdata\\local\\programs\\python\\python310\\lib\\site-packages (from tensorflow-intel==2.15.0->tensorflow) (2.15.1)\n",
						"Requirement already satisfied: tensorflow-estimator<2.16,>=2.15.0 in c:\\users\\luam_\\appdata\\local\\programs\\python\\python310\\lib\\site-packages (from tensorflow-intel==2.15.0->tensorflow) (2.15.0)\n",
						"Requirement already satisfied: keras<2.16,>=2.15.0 in c:\\users\\luam_\\appdata\\local\\programs\\python\\python310\\lib\\site-packages (from tensorflow-intel==2.15.0->tensorflow) (2.15.0)\n",
						"Requirement already satisfied: wheel<1.0,>=0.23.0 in c:\\users\\luam_\\appdata\\local\\programs\\python\\python310\\lib\\site-packages (from astunparse>=1.6.0->tensorflow-intel==2.15.0->tensorflow) (0.41.3)\n",
						"Requirement already satisfied: google-auth<3,>=1.6.3 in c:\\users\\luam_\\appdata\\local\\programs\\python\\python310\\lib\\site-packages (from tensorboard<2.16,>=2.15->tensorflow-intel==2.15.0->tensorflow) (2.23.4)\n",
						"Requirement already satisfied: google-auth-oauthlib<2,>=0.5 in c:\\users\\luam_\\appdata\\local\\programs\\python\\python310\\lib\\site-packages (from tensorboard<2.16,>=2.15->tensorflow-intel==2.15.0->tensorflow) (1.1.0)\n",
						"Requirement already satisfied: markdown>=2.6.8 in c:\\users\\luam_\\appdata\\local\\programs\\python\\python310\\lib\\site-packages (from tensorboard<2.16,>=2.15->tensorflow-intel==2.15.0->tensorflow) (3.5.1)\n",
						"Requirement already satisfied: requests<3,>=2.21.0 in c:\\users\\luam_\\appdata\\local\\programs\\python\\python310\\lib\\site-packages (from tensorboard<2.16,>=2.15->tensorflow-intel==2.15.0->tensorflow) (2.31.0)\n",
						"Requirement already satisfied: tensorboard-data-server<0.8.0,>=0.7.0 in c:\\users\\luam_\\appdata\\local\\programs\\python\\python310\\lib\\site-packages (from tensorboard<2.16,>=2.15->tensorflow-intel==2.15.0->tensorflow) (0.7.2)\n",
						"Requirement already satisfied: werkzeug>=1.0.1 in c:\\users\\luam_\\appdata\\local\\programs\\python\\python310\\lib\\site-packages (from tensorboard<2.16,>=2.15->tensorflow-intel==2.15.0->tensorflow) (3.0.1)\n",
						"Requirement already satisfied: cachetools<6.0,>=2.0.0 in c:\\users\\luam_\\appdata\\local\\programs\\python\\python310\\lib\\site-packages (from google-auth<3,>=1.6.3->tensorboard<2.16,>=2.15->tensorflow-intel==2.15.0->tensorflow) (5.3.2)\n",
						"Requirement already satisfied: pyasn1-modules>=0.2.1 in c:\\users\\luam_\\appdata\\local\\programs\\python\\python310\\lib\\site-packages (from google-auth<3,>=1.6.3->tensorboard<2.16,>=2.15->tensorflow-intel==2.15.0->tensorflow) (0.3.0)\n",
						"Requirement already satisfied: rsa<5,>=3.1.4 in c:\\users\\luam_\\appdata\\local\\programs\\python\\python310\\lib\\site-packages (from google-auth<3,>=1.6.3->tensorboard<2.16,>=2.15->tensorflow-intel==2.15.0->tensorflow) (4.9)\n",
						"Requirement already satisfied: requests-oauthlib>=0.7.0 in c:\\users\\luam_\\appdata\\local\\programs\\python\\python310\\lib\\site-packages (from google-auth-oauthlib<2,>=0.5->tensorboard<2.16,>=2.15->tensorflow-intel==2.15.0->tensorflow) (1.3.1)\n",
						"Requirement already satisfied: charset-normalizer<4,>=2 in c:\\users\\luam_\\appdata\\local\\programs\\python\\python310\\lib\\site-packages (from requests<3,>=2.21.0->tensorboard<2.16,>=2.15->tensorflow-intel==2.15.0->tensorflow) (3.3.2)\n",
						"Requirement already satisfied: idna<4,>=2.5 in c:\\users\\luam_\\appdata\\local\\programs\\python\\python310\\lib\\site-packages (from requests<3,>=2.21.0->tensorboard<2.16,>=2.15->tensorflow-intel==2.15.0->tensorflow) (3.4)\n",
						"Requirement already satisfied: urllib3<3,>=1.21.1 in c:\\users\\luam_\\appdata\\local\\programs\\python\\python310\\lib\\site-packages (from requests<3,>=2.21.0->tensorboard<2.16,>=2.15->tensorflow-intel==2.15.0->tensorflow) (2.1.0)\n",
						"Requirement already satisfied: certifi>=2017.4.17 in c:\\users\\luam_\\appdata\\local\\programs\\python\\python310\\lib\\site-packages (from requests<3,>=2.21.0->tensorboard<2.16,>=2.15->tensorflow-intel==2.15.0->tensorflow) (2023.7.22)\n",
						"Requirement already satisfied: MarkupSafe>=2.1.1 in c:\\users\\luam_\\appdata\\local\\programs\\python\\python310\\lib\\site-packages (from werkzeug>=1.0.1->tensorboard<2.16,>=2.15->tensorflow-intel==2.15.0->tensorflow) (2.1.3)\n",
						"Requirement already satisfied: pyasn1<0.6.0,>=0.4.6 in c:\\users\\luam_\\appdata\\local\\programs\\python\\python310\\lib\\site-packages (from pyasn1-modules>=0.2.1->google-auth<3,>=1.6.3->tensorboard<2.16,>=2.15->tensorflow-intel==2.15.0->tensorflow) (0.5.0)\n",
						"Requirement already satisfied: oauthlib>=3.0.0 in c:\\users\\luam_\\appdata\\local\\programs\\python\\python310\\lib\\site-packages (from requests-oauthlib>=0.7.0->google-auth-oauthlib<2,>=0.5->tensorboard<2.16,>=2.15->tensorflow-intel==2.15.0->tensorflow) (3.2.2)\n",
						"Note: you may need to restart the kernel to use updated packages.\n"
					]
				}
			],
			"source": [
				"%pip install tensorflow"
			]
		},
		{
			"cell_type": "code",
			"execution_count": 2,
			"metadata": {},
			"outputs": [
				{
					"name": "stdout",
					"output_type": "stream",
					"text": [
						"Requirement already satisfied: scipy in c:\\users\\luam_\\appdata\\local\\programs\\python\\python310\\lib\\site-packages (1.11.3)\n",
						"Requirement already satisfied: numpy<1.28.0,>=1.21.6 in c:\\users\\luam_\\appdata\\local\\programs\\python\\python310\\lib\\site-packages (from scipy) (1.26.2)\n",
						"Note: you may need to restart the kernel to use updated packages.\n"
					]
				}
			],
			"source": [
				"%pip install scipy"
			]
		},
		{
			"cell_type": "code",
			"execution_count": 3,
			"metadata": {},
			"outputs": [
				{
					"name": "stdout",
					"output_type": "stream",
					"text": [
						"WARNING:tensorflow:From c:\\Users\\luam_\\AppData\\Local\\Programs\\Python\\Python310\\lib\\site-packages\\keras\\src\\losses.py:2976: The name tf.losses.sparse_softmax_cross_entropy is deprecated. Please use tf.compat.v1.losses.sparse_softmax_cross_entropy instead.\n",
						"\n"
					]
				}
			],
			"source": [
				"import tensorflow as tf\n",
				"import scipy, numpy\n",
				"\n",
				"from tensorflow.keras.preprocessing.image import ImageDataGenerator\n",
				"from tensorflow.keras.models import Sequential\n",
				"from tensorflow.keras.layers import Conv2D, MaxPooling2D, Flatten, Dense, Dropout"
			]
		},
		{
			"cell_type": "code",
			"execution_count": 4,
			"metadata": {},
			"outputs": [],
			"source": [
				"# Caminhos para as pastas de dados\n",
				"train_data_dir = './data'\n",
				"batch_size = 2 # ***\n",
				"image_size = (150, 150)\n",
				"num_epochs = 10\n",
				"num_classes = 2"
			]
		},
		{
			"cell_type": "code",
			"execution_count": 5,
			"metadata": {},
			"outputs": [],
			"source": [
				"# Crie geradores de dados de treinamento\n",
				"train_datagen = ImageDataGenerator(\n",
				"    rescale=1.0 / 255, # Normalização das imagens\n",
				"    validation_split=0.20,  # Define a divisão de validação\n",
				"    shear_range=0.2,\n",
				"    zoom_range=0.2,\n",
				"    horizontal_flip=True)    "
			]
		},
		{
			"cell_type": "code",
			"execution_count": 6,
			"metadata": {},
			"outputs": [
				{
					"name": "stdout",
					"output_type": "stream",
					"text": [
						"Found 16 images belonging to 2 classes.\n"
					]
				}
			],
			"source": [
				"train_generator = train_datagen.flow_from_directory(\n",
				"    train_data_dir,\n",
				"    target_size=image_size,\n",
				"    batch_size=batch_size,\n",
				"    class_mode='binary',\n",
				"    subset='training'\n",
				")"
			]
		},
		{
			"cell_type": "code",
			"execution_count": 7,
			"metadata": {},
			"outputs": [
				{
					"name": "stdout",
					"output_type": "stream",
					"text": [
						"Found 4 images belonging to 2 classes.\n"
					]
				}
			],
			"source": [
				"validation_generator = train_datagen.flow_from_directory(\n",
				"    train_data_dir,\n",
				"    target_size=image_size,\n",
				"    batch_size=batch_size,\n",
				"    class_mode='binary',\n",
				"    subset='validation'\n",
				")"
			]
		},
		{
			"cell_type": "code",
			"execution_count": 8,
			"metadata": {},
			"outputs": [
				{
					"name": "stdout",
					"output_type": "stream",
					"text": [
						"WARNING:tensorflow:From c:\\Users\\luam_\\AppData\\Local\\Programs\\Python\\Python310\\lib\\site-packages\\keras\\src\\backend.py:873: The name tf.get_default_graph is deprecated. Please use tf.compat.v1.get_default_graph instead.\n",
						"\n",
						"WARNING:tensorflow:From c:\\Users\\luam_\\AppData\\Local\\Programs\\Python\\Python310\\lib\\site-packages\\keras\\src\\layers\\pooling\\max_pooling2d.py:161: The name tf.nn.max_pool is deprecated. Please use tf.nn.max_pool2d instead.\n",
						"\n"
					]
				}
			],
			"source": [
				"model = Sequential()\n",
				"model.add(Conv2D(32, (3, 3), input_shape=(image_size[0], image_size[1], 3), activation='relu'))\n",
				"model.add(MaxPooling2D(pool_size=(2, 2)))\n",
				"model.add(Conv2D(64, (3, 3), activation='relu'))\n",
				"model.add(MaxPooling2D(pool_size=(2, 2)))\n",
				"model.add(Flatten())\n",
				"model.add(Dense(64, activation='relu'))\n",
				"model.add(Dropout(0.5))\n",
				"model.add(Dense(1, activation='sigmoid'))  # Camada de saída com 1 unidade para classificação binária"
			]
		},
		{
			"cell_type": "code",
			"execution_count": 9,
			"metadata": {},
			"outputs": [
				{
					"name": "stdout",
					"output_type": "stream",
					"text": [
						"WARNING:tensorflow:From c:\\Users\\luam_\\AppData\\Local\\Programs\\Python\\Python310\\lib\\site-packages\\keras\\src\\optimizers\\__init__.py:309: The name tf.train.Optimizer is deprecated. Please use tf.compat.v1.train.Optimizer instead.\n",
						"\n"
					]
				}
			],
			"source": [
				"# Compile o modelo\n",
				"model.compile(loss='binary_crossentropy',\n",
				"              optimizer='adam',\n",
				"              metrics=['accuracy'])"
			]
		},
		{
			"cell_type": "code",
			"execution_count": 10,
			"metadata": {},
			"outputs": [
				{
					"ename": "ImportError",
					"evalue": "Could not import PIL.Image. The use of `load_img` requires PIL.",
					"output_type": "error",
					"traceback": [
						"\u001b[1;31m---------------------------------------------------------------------------\u001b[0m",
						"\u001b[1;31mImportError\u001b[0m                               Traceback (most recent call last)",
						"\u001b[1;32mc:\\Users\\luam_\\Desktop\\IA\\asdfasdf\\ia-classificador-imagem\\criandoClassificador.ipynb Cell 10\u001b[0m line \u001b[0;36m2\n\u001b[0;32m      <a href='vscode-notebook-cell:/c%3A/Users/luam_/Desktop/IA/asdfasdf/ia-classificador-imagem/criandoClassificador.ipynb#X12sZmlsZQ%3D%3D?line=0'>1</a>\u001b[0m \u001b[39m# Treine o modelo\u001b[39;00m\n\u001b[1;32m----> <a href='vscode-notebook-cell:/c%3A/Users/luam_/Desktop/IA/asdfasdf/ia-classificador-imagem/criandoClassificador.ipynb#X12sZmlsZQ%3D%3D?line=1'>2</a>\u001b[0m model\u001b[39m.\u001b[39;49mfit(\n\u001b[0;32m      <a href='vscode-notebook-cell:/c%3A/Users/luam_/Desktop/IA/asdfasdf/ia-classificador-imagem/criandoClassificador.ipynb#X12sZmlsZQ%3D%3D?line=2'>3</a>\u001b[0m     train_generator,\n\u001b[0;32m      <a href='vscode-notebook-cell:/c%3A/Users/luam_/Desktop/IA/asdfasdf/ia-classificador-imagem/criandoClassificador.ipynb#X12sZmlsZQ%3D%3D?line=3'>4</a>\u001b[0m     epochs\u001b[39m=\u001b[39;49mnum_epochs,\n\u001b[0;32m      <a href='vscode-notebook-cell:/c%3A/Users/luam_/Desktop/IA/asdfasdf/ia-classificador-imagem/criandoClassificador.ipynb#X12sZmlsZQ%3D%3D?line=4'>5</a>\u001b[0m     validation_data\u001b[39m=\u001b[39;49mvalidation_generator)\n\u001b[0;32m      <a href='vscode-notebook-cell:/c%3A/Users/luam_/Desktop/IA/asdfasdf/ia-classificador-imagem/criandoClassificador.ipynb#X12sZmlsZQ%3D%3D?line=6'>7</a>\u001b[0m \u001b[39m# Salve o modelo treinados\u001b[39;00m\n\u001b[0;32m      <a href='vscode-notebook-cell:/c%3A/Users/luam_/Desktop/IA/asdfasdf/ia-classificador-imagem/criandoClassificador.ipynb#X12sZmlsZQ%3D%3D?line=7'>8</a>\u001b[0m model\u001b[39m.\u001b[39msave(\u001b[39m'\u001b[39m\u001b[39m./models/modelo_arvore-flor.h5\u001b[39m\u001b[39m'\u001b[39m)\n",
						"File \u001b[1;32mc:\\Users\\luam_\\AppData\\Local\\Programs\\Python\\Python310\\lib\\site-packages\\keras\\src\\utils\\traceback_utils.py:70\u001b[0m, in \u001b[0;36mfilter_traceback.<locals>.error_handler\u001b[1;34m(*args, **kwargs)\u001b[0m\n\u001b[0;32m     67\u001b[0m     filtered_tb \u001b[39m=\u001b[39m _process_traceback_frames(e\u001b[39m.\u001b[39m__traceback__)\n\u001b[0;32m     68\u001b[0m     \u001b[39m# To get the full stack trace, call:\u001b[39;00m\n\u001b[0;32m     69\u001b[0m     \u001b[39m# `tf.debugging.disable_traceback_filtering()`\u001b[39;00m\n\u001b[1;32m---> 70\u001b[0m     \u001b[39mraise\u001b[39;00m e\u001b[39m.\u001b[39mwith_traceback(filtered_tb) \u001b[39mfrom\u001b[39;00m \u001b[39mNone\u001b[39;00m\n\u001b[0;32m     71\u001b[0m \u001b[39mfinally\u001b[39;00m:\n\u001b[0;32m     72\u001b[0m     \u001b[39mdel\u001b[39;00m filtered_tb\n",
						"File \u001b[1;32mc:\\Users\\luam_\\AppData\\Local\\Programs\\Python\\Python310\\lib\\site-packages\\keras\\src\\utils\\image_utils.py:414\u001b[0m, in \u001b[0;36mload_img\u001b[1;34m(path, grayscale, color_mode, target_size, interpolation, keep_aspect_ratio)\u001b[0m\n\u001b[0;32m    412\u001b[0m     color_mode \u001b[39m=\u001b[39m \u001b[39m\"\u001b[39m\u001b[39mgrayscale\u001b[39m\u001b[39m\"\u001b[39m\n\u001b[0;32m    413\u001b[0m \u001b[39mif\u001b[39;00m pil_image \u001b[39mis\u001b[39;00m \u001b[39mNone\u001b[39;00m:\n\u001b[1;32m--> 414\u001b[0m     \u001b[39mraise\u001b[39;00m \u001b[39mImportError\u001b[39;00m(\n\u001b[0;32m    415\u001b[0m         \u001b[39m\"\u001b[39m\u001b[39mCould not import PIL.Image. The use of `load_img` requires PIL.\u001b[39m\u001b[39m\"\u001b[39m\n\u001b[0;32m    416\u001b[0m     )\n\u001b[0;32m    417\u001b[0m \u001b[39mif\u001b[39;00m \u001b[39misinstance\u001b[39m(path, io\u001b[39m.\u001b[39mBytesIO):\n\u001b[0;32m    418\u001b[0m     img \u001b[39m=\u001b[39m pil_image\u001b[39m.\u001b[39mopen(path)\n",
						"\u001b[1;31mImportError\u001b[0m: Could not import PIL.Image. The use of `load_img` requires PIL."
					]
				}
			],
			"source": [
				"# Treine o modelo\n",
				"model.fit(\n",
				"    train_generator,\n",
				"    epochs=num_epochs,\n",
				"    validation_data=validation_generator)\n",
				"\n",
				"# Salve o modelo treinados\n",
				"model.save('./models/modelo_arvore-flor.h5')\n",
				"\n",
				"print('Modelo salvo com sucesso!')"
			]
		}
	],
	"metadata": {
		"kernelspec": {
			"display_name": "base",
			"language": "python",
			"name": "python3"
		},
		"language_info": {
			"codemirror_mode": {
				"name": "ipython",
				"version": 3
			},
			"file_extension": ".py",
			"mimetype": "text/x-python",
			"name": "python",
			"nbconvert_exporter": "python",
			"pygments_lexer": "ipython3",
			"version": "3.10.5"
		}
	},
	"nbformat": 4,
	"nbformat_minor": 2
}
