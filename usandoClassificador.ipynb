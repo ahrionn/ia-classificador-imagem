{
	"cells": [
		{
			"cell_type": "code",
			"execution_count": 5,
			"metadata": {},
			"outputs": [],
			"source": [
				"import os\n",
				"import tensorflow as tf\n",
				"from tensorflow.keras.preprocessing import image\n",
				"import numpy as np"
			]
		},
		{
			"cell_type": "code",
			"execution_count": 7,
			"metadata": {},
			"outputs": [
				{
					"ename": "OSError",
					"evalue": "No file or directory found at ./models/modelo_arvore-flor.h5",
					"output_type": "error",
					"traceback": [
						"\u001b[1;31m---------------------------------------------------------------------------\u001b[0m",
						"\u001b[1;31mOSError\u001b[0m                                   Traceback (most recent call last)",
						"\u001b[1;32mc:\\Users\\luam_\\Desktop\\IA\\asdfasdf\\ia-classificador-imagem\\usandoClassificador.ipynb Cell 2\u001b[0m line \u001b[0;36m2\n\u001b[0;32m      <a href='vscode-notebook-cell:/c%3A/Users/luam_/Desktop/IA/asdfasdf/ia-classificador-imagem/usandoClassificador.ipynb#W1sZmlsZQ%3D%3D?line=0'>1</a>\u001b[0m \u001b[39m# Carregue o modelo treinado\u001b[39;00m\n\u001b[1;32m----> <a href='vscode-notebook-cell:/c%3A/Users/luam_/Desktop/IA/asdfasdf/ia-classificador-imagem/usandoClassificador.ipynb#W1sZmlsZQ%3D%3D?line=1'>2</a>\u001b[0m model \u001b[39m=\u001b[39m tf\u001b[39m.\u001b[39;49mkeras\u001b[39m.\u001b[39;49mmodels\u001b[39m.\u001b[39;49mload_model(\u001b[39m'\u001b[39;49m\u001b[39m./models/modelo_arvore-flor.h5\u001b[39;49m\u001b[39m'\u001b[39;49m)\n\u001b[0;32m      <a href='vscode-notebook-cell:/c%3A/Users/luam_/Desktop/IA/asdfasdf/ia-classificador-imagem/usandoClassificador.ipynb#W1sZmlsZQ%3D%3D?line=3'>4</a>\u001b[0m \u001b[39m# Carregue uma nova imagem para classificação\u001b[39;00m\n\u001b[0;32m      <a href='vscode-notebook-cell:/c%3A/Users/luam_/Desktop/IA/asdfasdf/ia-classificador-imagem/usandoClassificador.ipynb#W1sZmlsZQ%3D%3D?line=4'>5</a>\u001b[0m new_image_path \u001b[39m=\u001b[39m \u001b[39m'\u001b[39m\u001b[39m./test/florteste1.jpg\u001b[39m\u001b[39m'\u001b[39m  \u001b[39m# Substitua 'nova_imagem.jpg' pelo nome da sua nova imagem\u001b[39;00m\n",
						"File \u001b[1;32mc:\\Users\\luam_\\AppData\\Local\\Programs\\Python\\Python310\\lib\\site-packages\\keras\\src\\saving\\saving_api.py:262\u001b[0m, in \u001b[0;36mload_model\u001b[1;34m(filepath, custom_objects, compile, safe_mode, **kwargs)\u001b[0m\n\u001b[0;32m    254\u001b[0m     \u001b[39mreturn\u001b[39;00m saving_lib\u001b[39m.\u001b[39mload_model(\n\u001b[0;32m    255\u001b[0m         filepath,\n\u001b[0;32m    256\u001b[0m         custom_objects\u001b[39m=\u001b[39mcustom_objects,\n\u001b[0;32m    257\u001b[0m         \u001b[39mcompile\u001b[39m\u001b[39m=\u001b[39m\u001b[39mcompile\u001b[39m,\n\u001b[0;32m    258\u001b[0m         safe_mode\u001b[39m=\u001b[39msafe_mode,\n\u001b[0;32m    259\u001b[0m     )\n\u001b[0;32m    261\u001b[0m \u001b[39m# Legacy case.\u001b[39;00m\n\u001b[1;32m--> 262\u001b[0m \u001b[39mreturn\u001b[39;00m legacy_sm_saving_lib\u001b[39m.\u001b[39mload_model(\n\u001b[0;32m    263\u001b[0m     filepath, custom_objects\u001b[39m=\u001b[39mcustom_objects, \u001b[39mcompile\u001b[39m\u001b[39m=\u001b[39m\u001b[39mcompile\u001b[39m, \u001b[39m*\u001b[39m\u001b[39m*\u001b[39mkwargs\n\u001b[0;32m    264\u001b[0m )\n",
						"File \u001b[1;32mc:\\Users\\luam_\\AppData\\Local\\Programs\\Python\\Python310\\lib\\site-packages\\keras\\src\\utils\\traceback_utils.py:70\u001b[0m, in \u001b[0;36mfilter_traceback.<locals>.error_handler\u001b[1;34m(*args, **kwargs)\u001b[0m\n\u001b[0;32m     67\u001b[0m     filtered_tb \u001b[39m=\u001b[39m _process_traceback_frames(e\u001b[39m.\u001b[39m__traceback__)\n\u001b[0;32m     68\u001b[0m     \u001b[39m# To get the full stack trace, call:\u001b[39;00m\n\u001b[0;32m     69\u001b[0m     \u001b[39m# `tf.debugging.disable_traceback_filtering()`\u001b[39;00m\n\u001b[1;32m---> 70\u001b[0m     \u001b[39mraise\u001b[39;00m e\u001b[39m.\u001b[39mwith_traceback(filtered_tb) \u001b[39mfrom\u001b[39;00m \u001b[39mNone\u001b[39;00m\n\u001b[0;32m     71\u001b[0m \u001b[39mfinally\u001b[39;00m:\n\u001b[0;32m     72\u001b[0m     \u001b[39mdel\u001b[39;00m filtered_tb\n",
						"File \u001b[1;32mc:\\Users\\luam_\\AppData\\Local\\Programs\\Python\\Python310\\lib\\site-packages\\keras\\src\\saving\\legacy\\save.py:234\u001b[0m, in \u001b[0;36mload_model\u001b[1;34m(filepath, custom_objects, compile, options)\u001b[0m\n\u001b[0;32m    232\u001b[0m \u001b[39mif\u001b[39;00m \u001b[39misinstance\u001b[39m(filepath_str, \u001b[39mstr\u001b[39m):\n\u001b[0;32m    233\u001b[0m     \u001b[39mif\u001b[39;00m \u001b[39mnot\u001b[39;00m tf\u001b[39m.\u001b[39mio\u001b[39m.\u001b[39mgfile\u001b[39m.\u001b[39mexists(filepath_str):\n\u001b[1;32m--> 234\u001b[0m         \u001b[39mraise\u001b[39;00m \u001b[39mIOError\u001b[39;00m(\n\u001b[0;32m    235\u001b[0m             \u001b[39mf\u001b[39m\u001b[39m\"\u001b[39m\u001b[39mNo file or directory found at \u001b[39m\u001b[39m{\u001b[39;00mfilepath_str\u001b[39m}\u001b[39;00m\u001b[39m\"\u001b[39m\n\u001b[0;32m    236\u001b[0m         )\n\u001b[0;32m    238\u001b[0m     \u001b[39mif\u001b[39;00m tf\u001b[39m.\u001b[39mio\u001b[39m.\u001b[39mgfile\u001b[39m.\u001b[39misdir(filepath_str):\n\u001b[0;32m    239\u001b[0m         \u001b[39mreturn\u001b[39;00m saved_model_load\u001b[39m.\u001b[39mload(\n\u001b[0;32m    240\u001b[0m             filepath_str, \u001b[39mcompile\u001b[39m, options\n\u001b[0;32m    241\u001b[0m         )\n",
						"\u001b[1;31mOSError\u001b[0m: No file or directory found at ./models/modelo_arvore-flor.h5"
					]
				}
			],
			"source": [
				"# Carregue o modelo treinado\n",
				"model = tf.keras.models.load_model('./models/modelo_arvore-flor.h5')\n",
				"\n",
				"# Carregue uma nova imagem para classificação\n",
				"new_image_path = './test/florteste1.jpg'  # Substitua 'nova_imagem.jpg' pelo nome da sua nova imagem\n",
				"\n",
				"# Pré-processe a nova imagem\n",
				"img = image.load_img(new_image_path, target_size=(150, 150))\n",
				"img = image.img_to_array(img)\n",
				"img = np.expand_dims(img, axis=0)\n",
				"img = img / 255.0  # Normalize a imagem (igual ao pré-processamento durante o treinamento)\n",
				"\n",
				"# Faça a previsão usando o modelo carregado\n",
				"prediction = model.predict(img)"
			]
		},
		{
			"cell_type": "code",
			"execution_count": 8,
			"metadata": {},
			"outputs": [
				{
					"ename": "NameError",
					"evalue": "name 'prediction' is not defined",
					"output_type": "error",
					"traceback": [
						"\u001b[1;31m---------------------------------------------------------------------------\u001b[0m",
						"\u001b[1;31mNameError\u001b[0m                                 Traceback (most recent call last)",
						"\u001b[1;32mc:\\Users\\luam_\\Desktop\\IA\\asdfasdf\\ia-classificador-imagem\\usandoClassificador.ipynb Cell 3\u001b[0m line \u001b[0;36m2\n\u001b[0;32m      <a href='vscode-notebook-cell:/c%3A/Users/luam_/Desktop/IA/asdfasdf/ia-classificador-imagem/usandoClassificador.ipynb#W2sZmlsZQ%3D%3D?line=0'>1</a>\u001b[0m \u001b[39m# Classifique a previsão\u001b[39;00m\n\u001b[1;32m----> <a href='vscode-notebook-cell:/c%3A/Users/luam_/Desktop/IA/asdfasdf/ia-classificador-imagem/usandoClassificador.ipynb#W2sZmlsZQ%3D%3D?line=1'>2</a>\u001b[0m \u001b[39mprint\u001b[39m(\u001b[39mf\u001b[39m\u001b[39m'\u001b[39m\u001b[39m%.2f\u001b[39m\u001b[39m'\u001b[39m \u001b[39m%\u001b[39m (prediction \u001b[39m*\u001b[39m \u001b[39m100\u001b[39m))\n\u001b[0;32m      <a href='vscode-notebook-cell:/c%3A/Users/luam_/Desktop/IA/asdfasdf/ia-classificador-imagem/usandoClassificador.ipynb#W2sZmlsZQ%3D%3D?line=3'>4</a>\u001b[0m \u001b[39mif\u001b[39;00m prediction \u001b[39m<\u001b[39m \u001b[39m0.5\u001b[39m:\n\u001b[0;32m      <a href='vscode-notebook-cell:/c%3A/Users/luam_/Desktop/IA/asdfasdf/ia-classificador-imagem/usandoClassificador.ipynb#W2sZmlsZQ%3D%3D?line=4'>5</a>\u001b[0m     \u001b[39mprint\u001b[39m(\u001b[39m\"\u001b[39m\u001b[39mClasse 0, um porco\u001b[39m\u001b[39m\"\u001b[39m)  \u001b[39m# Defina a classe correspondente\u001b[39;00m\n",
						"\u001b[1;31mNameError\u001b[0m: name 'prediction' is not defined"
					]
				}
			],
			"source": [
				"# Classifique a previsão\n",
				"print(f'%.2f' % (prediction * 100))\n",
				"\n",
				"if prediction < 0.5:\n",
				"    print(\"Classe 0, uma flor\")  # Defina a classe correspondente\n",
				"else:\n",
				"    print(\"Classe 1, uma árvore\")  # Defina a classe correspondente\n"
			]
		},
		{
			"cell_type": "code",
			"execution_count": 9,
			"metadata": {},
			"outputs": [
				{
					"name": "stdout",
					"output_type": "stream",
					"text": [
						"arvoreteste1.jpg\n"
					]
				},
				{
					"ename": "ImportError",
					"evalue": "Could not import PIL.Image. The use of `load_img` requires PIL.",
					"output_type": "error",
					"traceback": [
						"\u001b[1;31m---------------------------------------------------------------------------\u001b[0m",
						"\u001b[1;31mImportError\u001b[0m                               Traceback (most recent call last)",
						"\u001b[1;32mc:\\Users\\luam_\\Desktop\\IA\\asdfasdf\\ia-classificador-imagem\\usandoClassificador.ipynb Cell 4\u001b[0m line \u001b[0;36m1\n\u001b[0;32m      <a href='vscode-notebook-cell:/c%3A/Users/luam_/Desktop/IA/asdfasdf/ia-classificador-imagem/usandoClassificador.ipynb#W3sZmlsZQ%3D%3D?line=8'>9</a>\u001b[0m image_path \u001b[39m=\u001b[39m os\u001b[39m.\u001b[39mpath\u001b[39m.\u001b[39mjoin(test_directory, filename)\n\u001b[0;32m     <a href='vscode-notebook-cell:/c%3A/Users/luam_/Desktop/IA/asdfasdf/ia-classificador-imagem/usandoClassificador.ipynb#W3sZmlsZQ%3D%3D?line=10'>11</a>\u001b[0m \u001b[39m# Pré-processe a imagem de teste\u001b[39;00m\n\u001b[1;32m---> <a href='vscode-notebook-cell:/c%3A/Users/luam_/Desktop/IA/asdfasdf/ia-classificador-imagem/usandoClassificador.ipynb#W3sZmlsZQ%3D%3D?line=11'>12</a>\u001b[0m img \u001b[39m=\u001b[39m image\u001b[39m.\u001b[39;49mload_img(image_path, target_size\u001b[39m=\u001b[39;49m(\u001b[39m150\u001b[39;49m, \u001b[39m150\u001b[39;49m))\n\u001b[0;32m     <a href='vscode-notebook-cell:/c%3A/Users/luam_/Desktop/IA/asdfasdf/ia-classificador-imagem/usandoClassificador.ipynb#W3sZmlsZQ%3D%3D?line=12'>13</a>\u001b[0m img \u001b[39m=\u001b[39m image\u001b[39m.\u001b[39mimg_to_array(img)\n\u001b[0;32m     <a href='vscode-notebook-cell:/c%3A/Users/luam_/Desktop/IA/asdfasdf/ia-classificador-imagem/usandoClassificador.ipynb#W3sZmlsZQ%3D%3D?line=13'>14</a>\u001b[0m img \u001b[39m=\u001b[39m np\u001b[39m.\u001b[39mexpand_dims(img, axis\u001b[39m=\u001b[39m\u001b[39m0\u001b[39m)\n",
						"File \u001b[1;32mc:\\Users\\luam_\\AppData\\Local\\Programs\\Python\\Python310\\lib\\site-packages\\keras\\src\\utils\\image_utils.py:414\u001b[0m, in \u001b[0;36mload_img\u001b[1;34m(path, grayscale, color_mode, target_size, interpolation, keep_aspect_ratio)\u001b[0m\n\u001b[0;32m    412\u001b[0m     color_mode \u001b[39m=\u001b[39m \u001b[39m\"\u001b[39m\u001b[39mgrayscale\u001b[39m\u001b[39m\"\u001b[39m\n\u001b[0;32m    413\u001b[0m \u001b[39mif\u001b[39;00m pil_image \u001b[39mis\u001b[39;00m \u001b[39mNone\u001b[39;00m:\n\u001b[1;32m--> 414\u001b[0m     \u001b[39mraise\u001b[39;00m \u001b[39mImportError\u001b[39;00m(\n\u001b[0;32m    415\u001b[0m         \u001b[39m\"\u001b[39m\u001b[39mCould not import PIL.Image. The use of `load_img` requires PIL.\u001b[39m\u001b[39m\"\u001b[39m\n\u001b[0;32m    416\u001b[0m     )\n\u001b[0;32m    417\u001b[0m \u001b[39mif\u001b[39;00m \u001b[39misinstance\u001b[39m(path, io\u001b[39m.\u001b[39mBytesIO):\n\u001b[0;32m    418\u001b[0m     img \u001b[39m=\u001b[39m pil_image\u001b[39m.\u001b[39mopen(path)\n",
						"\u001b[1;31mImportError\u001b[0m: Could not import PIL.Image. The use of `load_img` requires PIL."
					]
				}
			],
			"source": [
				"# Diretório de imagens de teste\n",
				"test_directory = './test'  # Substitua 'data/test' pelo caminho para a pasta de teste\n",
				"\n",
				"# Percorra todas as imagens na pasta de teste\n",
				"for filename in os.listdir(test_directory):\n",
				"    if filename.endswith(\".jpg\") or filename.endswith(\".jpeg\"):\n",
				"        print(filename)\n",
				"        # Caminho completo para a imagem de teste\n",
				"        image_path = os.path.join(test_directory, filename)\n",
				"\n",
				"        # Pré-processe a imagem de teste\n",
				"        img = image.load_img(image_path, target_size=(150, 150))\n",
				"        img = image.img_to_array(img)\n",
				"        img = np.expand_dims(img, axis=0)\n",
				"        img = img / 255.0  # Normalize a imagem (igual ao pré-processamento durante o treinamento)\n",
				"\n",
				"        # Faça a previsão usando o modelo carregado\n",
				"        prediction = model.predict(img)\n",
				"\n",
				"        if prediction < 0.5:\n",
				"            print(\"Classe 0, uma flor\")  # Defina a classe correspondente\n",
				"        else:\n",
				"            print(\"Classe 1, uma árvore\")  # Defina a classe correspondente\n",
				"                # Classifique a previsão\n",
				"        print(f'%.2f\\n' % (prediction))"
			]
		}
	],
	"metadata": {
		"kernelspec": {
			"display_name": "base",
			"language": "python",
			"name": "python3"
		},
		"language_info": {
			"codemirror_mode": {
				"name": "ipython",
				"version": 3
			},
			"file_extension": ".py",
			"mimetype": "text/x-python",
			"name": "python",
			"nbconvert_exporter": "python",
			"pygments_lexer": "ipython3",
			"version": "3.10.5"
		}
	},
	"nbformat": 4,
	"nbformat_minor": 2
}
